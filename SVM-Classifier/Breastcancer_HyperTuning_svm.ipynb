{
 "cells": [
  {
   "cell_type": "code",
   "execution_count": null,
   "id": "5a683096-9558-4bd3-baa3-aa962a0e549d",
   "metadata": {},
   "outputs": [],
   "source": [
    "import pandas as pd\n",
    "import numpy as np\n",
    "import sklearn.datasets\n",
    "from sklearn.model_selection import train_test_split\n",
    "from sklearn.svm import SVC\n",
    "from sklearn.model_selection import GridSearchCV\n",
    "from sklearn.model_selection import RandomizedSearchCV"
   ]
  },
  {
   "cell_type": "code",
   "execution_count": null,
   "id": "a605fdfd-39c6-4609-8835-17b8411de4e6",
   "metadata": {},
   "outputs": [],
   "source": [
    "ds=sklearn.datasets.load_breast_cancer()"
   ]
  },
  {
   "cell_type": "code",
   "execution_count": null,
   "id": "d26d8aac-56b0-44ab-a606-282fdd738107",
   "metadata": {},
   "outputs": [],
   "source": [
    "print(ds)"
   ]
  },
  {
   "cell_type": "code",
   "execution_count": null,
   "id": "28a8fc74-bd17-4865-b125-8a35368e8142",
   "metadata": {},
   "outputs": [],
   "source": [
    "df=pd.DataFrame(ds.data,columns=ds.feature_names)\n",
    "df.head()"
   ]
  },
  {
   "cell_type": "code",
   "execution_count": null,
   "id": "dcb554d9-b182-4c89-ba3d-ca2e254da443",
   "metadata": {},
   "outputs": [],
   "source": [
    "df['result']=ds.target\n",
    "df.head()"
   ]
  },
  {
   "cell_type": "code",
   "execution_count": null,
   "id": "1148f2a4-99b8-454a-b263-42a26689e574",
   "metadata": {},
   "outputs": [],
   "source": [
    "df.shape"
   ]
  },
  {
   "cell_type": "code",
   "execution_count": null,
   "id": "42194684-2cba-4468-b17c-7ce4ae4c65c9",
   "metadata": {},
   "outputs": [],
   "source": [
    "df.isnull().sum()"
   ]
  },
  {
   "cell_type": "code",
   "execution_count": null,
   "id": "8f0e53ed-139f-4d77-a973-f98b7250350b",
   "metadata": {},
   "outputs": [],
   "source": [
    "X=df.drop(columns='result',axis=1)\n",
    "Y=df['result']"
   ]
  },
  {
   "cell_type": "code",
   "execution_count": null,
   "id": "6bc81d27-09a5-44a7-8798-0fb0bb11d355",
   "metadata": {},
   "outputs": [],
   "source": [
    "print(X)\n",
    "print(Y)"
   ]
  },
  {
   "cell_type": "code",
   "execution_count": null,
   "id": "9842411b-2411-4aec-b3d7-b1c49b75e25a",
   "metadata": {},
   "outputs": [],
   "source": [
    "#GridSearchCV\n",
    "model=SVC()\n",
    "parameters={\n",
    "    'kernel':['linear','poly','rbf','sigmoid'],\n",
    "    'C':[1,5,10,20]\n",
    "}"
   ]
  },
  {
   "cell_type": "code",
   "execution_count": null,
   "id": "6f3dd788-c403-4728-b64d-08e9cec4c50e",
   "metadata": {},
   "outputs": [],
   "source": [
    "classifier=GridSearchCV(model,parameters,cv=5)\n",
    "classifier.fit(X,Y)"
   ]
  },
  {
   "cell_type": "code",
   "execution_count": null,
   "id": "d676a34c-266e-4a1d-8886-e821fa0a09f7",
   "metadata": {},
   "outputs": [],
   "source": [
    "classifier.cv_results_"
   ]
  },
  {
   "cell_type": "code",
   "execution_count": null,
   "id": "f75aa502-d3cc-41a3-ac1e-87192c6c9023",
   "metadata": {},
   "outputs": [],
   "source": [
    "#best-parameters\n",
    "best_parameter=classifier.best_params_\n",
    "print(best_parameter)"
   ]
  },
  {
   "cell_type": "code",
   "execution_count": null,
   "id": "43190482-c90c-4247-bc98-707f6200e181",
   "metadata": {},
   "outputs": [],
   "source": [
    "highest_accuracy = classifier.best_score_\n",
    "print(highest_accuracy)"
   ]
  },
  {
   "cell_type": "code",
   "execution_count": null,
   "id": "77ddce46-0f84-4d37-a026-12ce0f481d19",
   "metadata": {},
   "outputs": [],
   "source": [
    "result = pd.DataFrame(classifier.cv_results_)\n",
    "result.head()"
   ]
  },
  {
   "cell_type": "code",
   "execution_count": null,
   "id": "9c6e9c8e-ec65-4b32-bfd2-1d18fd3a4a8b",
   "metadata": {},
   "outputs": [],
   "source": [
    "grid_search_result = result[['param_C','param_kernel','mean_test_score']]\n",
    "grid_search_result"
   ]
  },
  {
   "cell_type": "code",
   "execution_count": null,
   "id": "7f93e3e9-ccf5-41a6-86f5-8e450b3c299c",
   "metadata": {},
   "outputs": [],
   "source": [
    "#RandomizedSearchCV\n",
    "model = SVC()\n",
    "parameters = {\n",
    "              'kernel':['linear','poly','rbf','sigmoid'],\n",
    "              'C':[1, 5, 10, 20]\n",
    "}\n",
    "classifier = RandomizedSearchCV(model, parameters, cv=5)\n",
    "classifier.fit(X, Y)\n",
    "classifier.cv_results_"
   ]
  },
  {
   "cell_type": "code",
   "execution_count": null,
   "id": "dd9d5583-ba44-474f-be4d-b2592f35d942",
   "metadata": {},
   "outputs": [],
   "source": [
    "best_parameters = classifier.best_params_\n",
    "print(best_parameters)"
   ]
  },
  {
   "cell_type": "code",
   "execution_count": null,
   "id": "13a880ef-100f-4808-badb-1040f168be15",
   "metadata": {},
   "outputs": [],
   "source": [
    "highest_accuracy = classifier.best_score_\n",
    "print(highest_accuracy)"
   ]
  },
  {
   "cell_type": "code",
   "execution_count": null,
   "id": "3a6d025a-6eeb-4d4f-a305-78a9ec865489",
   "metadata": {},
   "outputs": [],
   "source": [
    "result = pd.DataFrame(classifier.cv_results_)\n",
    "result.head()"
   ]
  },
  {
   "cell_type": "code",
   "execution_count": null,
   "id": "13e057c9-da83-4943-8060-9a8c361aa5f8",
   "metadata": {},
   "outputs": [],
   "source": [
    "randomized_search_result = result[['param_C','param_kernel','mean_test_score']]\n",
    "randomized_search_result"
   ]
  },
  {
   "cell_type": "code",
   "execution_count": null,
   "id": "24588eb6-d3b4-424d-b38c-adca7a69cd09",
   "metadata": {},
   "outputs": [],
   "source": [
    "input_data = X.iloc[5]  # taking a 6th patient’s feature data for demo\n",
    "input_data_scaled = scaler.transform([input_data])\n",
    "prediction = final_model.predict(input_data_scaled)\n",
    "\n",
    "if prediction[0] == 0:\n",
    "    print(\"Prediction: Malignant Tumor ❌\")\n",
    "else:\n",
    "    print(\"Prediction: Benign Tumor ✅\")"
   ]
  },
  {
   "cell_type": "code",
   "execution_count": null,
   "id": "8dc66968-a038-4f6f-9f0e-bc4964bbea71",
   "metadata": {},
   "outputs": [],
   "source": []
  }
 ],
 "metadata": {
  "kernelspec": {
   "display_name": "Python 3 (ipykernel)",
   "language": "python",
   "name": "python3"
  },
  "language_info": {
   "codemirror_mode": {
    "name": "ipython",
    "version": 3
   },
   "file_extension": ".py",
   "mimetype": "text/x-python",
   "name": "python",
   "nbconvert_exporter": "python",
   "pygments_lexer": "ipython3",
   "version": "3.12.7"
  }
 },
 "nbformat": 4,
 "nbformat_minor": 5
}
